{
 "cells": [
  {
   "cell_type": "markdown",
   "metadata": {},
   "source": [
    "Client to run jsoniq queries in rumble server.\n",
    "For python client see : https://github.com/dmwm/CMSMonitoring/tree/master/doc/Rumble"
   ]
  },
  {
   "cell_type": "code",
   "execution_count": 2,
   "metadata": {},
   "outputs": [],
   "source": [
    "import requests\n",
    "import json\n",
    "import ast\n",
    "from IPython.core.magic import register_line_cell_magic\n",
    "\n",
    "# Rumble server endpoint in K8S test cluster. Max output size is 1.000.000 records\n",
    "server = \"https://cms-monitoring.cern.ch/jsoniq?materialization-cap=1000000\"\n",
    "@register_line_cell_magic\n",
    "def rumble(line, cell=None):\n",
    "    global server, output_path\n",
    "    if cell is None:\n",
    "        data = line\n",
    "    else:\n",
    "        data = cell\n",
    "\n",
    "    response = json.loads(requests.post(server, data=data).text)\n",
    "    \n",
    "    if 'warning' in response:\n",
    "        print(ast.literal_eval(json.dumps(response['warning'])))\n",
    "    if 'values' in response:\n",
    "        for e in response['values']:\n",
    "            print(ast.literal_eval(json.dumps(e)))\n",
    "    elif 'error-message' in response:\n",
    "        return response['error-message']\n",
    "    else:\n",
    "        return response"
   ]
  },
  {
   "cell_type": "code",
   "execution_count": 3,
   "metadata": {},
   "outputs": [
    {
     "name": "stdout",
     "output_type": "stream",
     "text": [
      "2\n"
     ]
    }
   ],
   "source": [
    "%rumble 1 + 1"
   ]
  },
  {
   "cell_type": "code",
   "execution_count": 4,
   "metadata": {},
   "outputs": [
    {
     "name": "stdout",
     "output_type": "stream",
     "text": [
      "9\n",
      "CPU times: user 47.7 ms, sys: 14.9 ms, total: 62.6 ms\n",
      "Wall time: 46 s\n"
     ]
    }
   ],
   "source": [
    "%%time\n",
    "%%rumble\n",
    "for $i in parallelize(5 to 10)\n",
    "where $i mod 9 eq 0\n",
    "return $i"
   ]
  },
  {
   "cell_type": "code",
   "execution_count": 9,
   "metadata": {},
   "outputs": [
    {
     "name": "stdout",
     "output_type": "stream",
     "text": [
      "420fc15e6d8242cba1f17478af5e5a4f\n",
      "f7ada3ce4cd844749ddb719d91f60956\n",
      "77fc8211f70a48248d62304989435398\n",
      "e89af265ecc84a82a3c10404a7f2fd5d\n",
      "83037e80949249328d59092964fbc12e\n",
      "e5b709fa05974cfaa58eb5cd2e691393\n",
      "6adbe57eb17c473a8de09a84b28e0c31\n",
      "bb7e472d5a934c6392a4a802b2d0d058\n",
      "a5cff64db7be41f089536ce066347ac7\n",
      "f2b73f0062064df4ada4b96bcab7a24a\n",
      "CPU times: user 124 ms, sys: 58.5 ms, total: 183 ms\n",
      "Wall time: 2min 37s\n"
     ]
    }
   ],
   "source": [
    "%%time\n",
    "%%rumble\n",
    "subsequence(\n",
    "  for $doc in json-file(\"hdfs://analytix/project/monitoring/archive/wmarchive/raw/metric/2020/09/15/\")\n",
    "  return $doc.data.wmaid,\n",
    "  1,\n",
    "  10\n",
    ")"
   ]
  },
  {
   "cell_type": "code",
   "execution_count": null,
   "metadata": {},
   "outputs": [],
   "source": []
  }
 ],
 "metadata": {
  "kernelspec": {
   "display_name": "Python 3",
   "language": "python",
   "name": "python3"
  },
  "language_info": {
   "codemirror_mode": {
    "name": "ipython",
    "version": 3
   },
   "file_extension": ".py",
   "mimetype": "text/x-python",
   "name": "python",
   "nbconvert_exporter": "python",
   "pygments_lexer": "ipython3",
   "version": "3.7.6"
  }
 },
 "nbformat": 4,
 "nbformat_minor": 4
}

