{
 "cells": [
  {
   "cell_type": "markdown",
   "metadata": {},
   "source": [
    "# Data Injection on Monit\n",
    "In this tutorial, we will prepare a dataset and sent it to the MonIT infrastructure. We will use Spark to check at the data once it is ingested in HDFS. \n",
    "\n",
    "## Requirements\n",
    "\n",
    "  - A swan environment:\n",
    "      - If you haven't used swan or cernbox before login first in cernbox to have you eos folder created.\n",
    "      - go to https://swan.cern.ch, login and create a new session with the following configuration:\n",
    "            Software stack 96 Python 3\n",
    "            Platform CentOS 7 (gcc8)\n",
    "            Number of cores 4\n",
    "            Memory 8 GB\n",
    "            Spark cluster Analytix[+]\n",
    "  - This notebook\n",
    "        In SWAN, create a new project (using the + button). Enter to the project folder.\n",
    "        Download this notebook and import it to the new project using the upload file button.\n",
    "        \n",
    "[+] Optional, if you want to see your data in HDFS you will need to have access to the Analytix cluster. If you haven't used HDFS at CERN before, you will need to create a [SNOW ticket to the Hadoop service element](https://hadoop-user-guide.web.cern.ch/hadoop-user-guide/getstart/access.html) to have your account authorized. Please specify that you will use the Analytix cluster to access CMS data.  **This will be required to run the Spark part of this tutorial.**\n",
    "\n",
    "### Before start\n",
    "\n",
    "To inject data into MonIT we will use the StompAMQ module of the CMSMonitoring package. You can install it using pip:\n",
    "\n",
    "```\n",
    "pip install CMSMonitoring\n",
    "```\n",
    "In case of swan you will need to install it in the user space, you can do it running the next cell\n",
    "\n",
    "**Note** As a best practice you *should* use a virtual environment for your application."
   ]
  },
  {
   "cell_type": "code",
   "execution_count": 1,
   "metadata": {},
   "outputs": [
    {
     "name": "stdout",
     "output_type": "stream",
     "text": [
      "Requirement already satisfied: CMSMonitoring==0.3.3 in /eos/home-c/carizapo/.local/lib/python3.6/site-packages (0.3.3)\n",
      "Requirement already satisfied: genson>=1.0.2 in /eos/home-c/carizapo/.local/lib/python3.6/site-packages (from CMSMonitoring==0.3.3) (1.1.0)\n",
      "Collecting stomp.py==4.1.21 (from CMSMonitoring==0.3.3)\n",
      "Requirement already satisfied: jsonschema>=2.6.0 in /cvmfs/sft.cern.ch/lcg/views/LCG_96python3/x86_64-centos7-gcc8-opt/lib/python3.6/site-packages (from CMSMonitoring==0.3.3) (3.0.1)\n",
      "Requirement already satisfied: docopt>=0.6.2 in /eos/home-c/carizapo/.local/lib/python3.6/site-packages (from stomp.py==4.1.21->CMSMonitoring==0.3.3) (0.6.2)\n",
      "Requirement already satisfied: attrs>=17.4.0 in /cvmfs/sft.cern.ch/lcg/views/LCG_96python3/x86_64-centos7-gcc8-opt/lib/python3.6/site-packages (from jsonschema>=2.6.0->CMSMonitoring==0.3.3) (19.1.0)\n",
      "Requirement already satisfied: pyrsistent>=0.14.0 in /cvmfs/sft.cern.ch/lcg/views/LCG_96python3/x86_64-centos7-gcc8-opt/lib/python3.6/site-packages (from jsonschema>=2.6.0->CMSMonitoring==0.3.3) (0.15.2)\n",
      "Requirement already satisfied: setuptools in /usr/local/lib/swan (from jsonschema>=2.6.0->CMSMonitoring==0.3.3) (41.6.0)\n",
      "Requirement already satisfied: six>=1.11.0 in /usr/local/lib/swan (from jsonschema>=2.6.0->CMSMonitoring==0.3.3) (1.13.0)\n",
      "Installing collected packages: stomp.py\n",
      "\u001b[33m  WARNING: The script stomp is installed in '/eos/user/c/carizapo/.local/bin' which is not on PATH.\n",
      "  Consider adding this directory to PATH or, if you prefer to suppress this warning, use --no-warn-script-location.\u001b[0m\n",
      "Successfully installed stomp.py-4.1.21\n",
      "Note: you may need to restart the kernel to use updated packages.\n",
      "['/eos/user/c/carizapo/.local/lib/python3.6/site-packages', '/cvmfs/sft.cern.ch/lcg/views/LCG_96python3/x86_64-centos7-gcc8-opt/lib', '/tmp/spark-ba059d9a-9102-42e3-b311-74217ed80409/userFiles-4102d8d5-48f5-4369-aec6-b6b3874159ef', '', '/cvmfs/sft.cern.ch/lcg/views/LCG_96python3/x86_64-centos7-gcc8-opt/lib/python3.6/site-packages', '/cvmfs/sft.cern.ch/lcg/releases/Python/3.6.5-f74f0/x86_64-centos7-gcc8-opt/lib/python36.zip', '/cvmfs/sft.cern.ch/lcg/releases/Python/3.6.5-f74f0/x86_64-centos7-gcc8-opt/lib/python3.6', '/cvmfs/sft.cern.ch/lcg/releases/Python/3.6.5-f74f0/x86_64-centos7-gcc8-opt/lib/python3.6/lib-dynload', '/eos/user/c/carizapo/.local/lib/python3.6/site-packages', '/cvmfs/sft.cern.ch/lcg/releases/Python/3.6.5-f74f0/x86_64-centos7-gcc8-opt/lib/python3.6/site-packages', '/usr/local/lib/swan/IPython/extensions', '/scratch/carizapo/.ipython']\n"
     ]
    }
   ],
   "source": [
    "# The jupyter magic command will install the package (this notebook was produced with the version 0.3.3)\n",
    "%pip install --user CMSMonitoring==0.3.3\n",
    "# As the package is installed in the user space we will need to update the sys.path list \n",
    "# to use it. This is only necessary if you don't want to restart the kernel.\n",
    "# (i.e. you will not need to do this in a script.)\n",
    "import sys\n",
    "import site\n",
    "sys.path.insert(0,site.getusersitepackages())\n",
    "print(sys.path)"
   ]
  },
  {
   "cell_type": "markdown",
   "metadata": {},
   "source": [
    "## Let's start\n",
    "\n",
    "### What are we doing when we send data to monit? \n",
    "\n",
    "In the monit infrastructure we have different ways to send data, the most common one is to use the AMQ enpoint. \n",
    "\n",
    "producer --> AMQ endpoint --> flume --> Kafka --> flume --> [HDFS/INFLUXDB/ElasticSearch] --> [Kibana/Grafana/Swan...]\n",
    "\n",
    "In this tutorial we are creating a new producer. \n",
    "\n",
    "\n",
    "In order to send data to AMQ the producer should known the broker, his credentials and the topic where it will store the messages. \n",
    "\n",
    "**In this tutorial we will use the training topic and the training user credentials**. When developing your own producer, you should obtain a proper end-point from CERN MONIT team. You can arrange this by opening either a CMSMONIT Jira ticket or a SNOW ticket. The former will be directed to CMS Monitoring group and we'll coordinate its progress with CERN MONIT team, the later will go directly to CERN MONIT line of support and bypass CMS Monitoring. Please choose accordingly. In the ticket you should specify the following mandatory items:\n",
    "\n",
    "  - The data volume you foresee from your data-provider to CERN MONIT, an approximate numbers are sufficient, e.g. size of JSON document times number of docs per certain time\n",
    "  - An approximate injection rate, e.g. 1K docs per day\n",
    "  - You should provide desired topic name where your docs will appear, e.g. cms-my-topic (try always to use the cms prefix followed by your topic name)\n",
    "  - Your preference for authentication, password based or X509 certificate\n",
    "  - Provide an e-group which will be used for communication between your team and CERN MONIT\n",
    "\n",
    "Once you have the appropiated credentials you need to: \n",
    "\n",
    "   - Collect your data\n",
    "   - Transform your data into the required format\n",
    "   - Send the messages"
   ]
  },
  {
   "cell_type": "markdown",
   "metadata": {},
   "source": [
    "First we will install the dependecies, we will use StompAMQ from CMSMonitoring and also the json package."
   ]
  },
  {
   "cell_type": "code",
   "execution_count": 2,
   "metadata": {
    "scrolled": true
   },
   "outputs": [],
   "source": [
    "import os\n",
    "import json\n",
    "import time\n",
    "from itertools import islice\n",
    "from CMSMonitoring.StompAMQ import StompAMQ"
   ]
  },
  {
   "cell_type": "markdown",
   "metadata": {},
   "source": [
    "### Collect your data"
   ]
  },
  {
   "cell_type": "code",
   "execution_count": 3,
   "metadata": {},
   "outputs": [],
   "source": [
    "def get_training_data_from_mock_file(samples=100, username=None, location=\"/eos/user/c/cmsmonit/training/trainingCMSData.json\"):\n",
    "    \"\"\"\n",
    "    Get training data from a text file, add to it the timestamp and the username\n",
    "    and yield it as a dictionary.\n",
    "    ```\n",
    "    {\n",
    "        'id': 1,\n",
    "        'country': 'BR',\n",
    "        'tier': 'T0',\n",
    "        'siteName': 'T0_BR_vermin',\n",
    "        'requestedCores': 3.39,\n",
    "        'requestedMB': 1054,\n",
    "        'usedMB': 1156,\n",
    "        'training_username': 'training',\n",
    "        'timestamp': 1583770104.5563471\n",
    "    }\n",
    "    ```\n",
    "    \n",
    "    If samples is bigger than the actual data it will read again from the start.\n",
    "    The data was gerenated using mockaroo with the template\n",
    "    https://mockaroo.com/b01a5310\n",
    "    \"\"\"\n",
    "    if not username:\n",
    "        username = os.getenv(\"USER\")\n",
    "    with open(location,\"r\") as mock_data_file:\n",
    "        for i in range(0,samples):\n",
    "            json_line =  mock_data_file.readline()\n",
    "            if not json_line:\n",
    "                mock_data_file.seek(0)\n",
    "                json_line =  mock_data_file.readline()\n",
    "            data = json.loads(json_line)\n",
    "            data[\"training_username\"] = username\n",
    "            data[\"timestamp\"] = time.time()\n",
    "            yield data\n",
    "            \n",
    "def take(n, iterable):\n",
    "    \"Return first n items of the iterable as a list\"\n",
    "    return list(islice(iterable, n))"
   ]
  },
  {
   "cell_type": "markdown",
   "metadata": {},
   "source": [
    "### Transform and send your data\n",
    "\n",
    "The StompAMQ module provides you with methods to tranform and send your data in the appropiate format. \n",
    "It will requires that you:\n",
    "  - create a `StompAMQ` instance that will act as your connection to the AMQ broker. \n",
    "  - transform your documents using the `make_notification` method\n",
    "  - send it using the `send`\n",
    "  \n",
    "In order to create the StompAMQ instance you will need the producer name, the topic, the host and port of the broker, and the credentials to autenticate. The credentials can be either certificates or username-password pairs. When you are ussing certificates you need to use an empty username and password. \n"
   ]
  },
  {
   "cell_type": "code",
   "execution_count": 4,
   "metadata": {},
   "outputs": [],
   "source": [
    "username = \"\"\n",
    "password = \"\"\n",
    "producer = \"cms-training\"\n",
    "topic = \"/topic/cms.training\"\n",
    "host = \"cms-test-mb.cern.ch\"\n",
    "port = 61323\n",
    "cert = \"/eos/user/c/cmsmonit/training/.globus/robot-training-cert.pem\"\n",
    "ckey = \"/eos/user/c/cmsmonit/training/.globus/robot-training-key.pem\""
   ]
  },
  {
   "cell_type": "markdown",
   "metadata": {},
   "source": [
    "*tip*: In a notebook you can explore the singature and documentation of any method or class using an `?` after it: "
   ]
  },
  {
   "cell_type": "code",
   "execution_count": 5,
   "metadata": {},
   "outputs": [],
   "source": [
    "StompAMQ?"
   ]
  },
  {
   "cell_type": "code",
   "execution_count": 6,
   "metadata": {},
   "outputs": [
    {
     "name": "stderr",
     "output_type": "stream",
     "text": [
      "WARNING:StompAMQ:No document validation performed!\n"
     ]
    }
   ],
   "source": [
    "stomp_amq = StompAMQ(username, password, producer, topic, key=ckey, cert=cert, validation_schema=None, host_and_ports=[(host, port)])"
   ]
  },
  {
   "cell_type": "code",
   "execution_count": 7,
   "metadata": {},
   "outputs": [],
   "source": [
    "stomp_amq.make_notification?"
   ]
  },
  {
   "cell_type": "markdown",
   "metadata": {},
   "source": [
    "For this tutorial, we will send 1000 messages, in batches of 100 each 10 seconds. "
   ]
  },
  {
   "cell_type": "code",
   "execution_count": 8,
   "metadata": {
    "scrolled": false
   },
   "outputs": [],
   "source": [
    "batch_size = 100\n",
    "n_messages = 1000\n",
    "wait_seconds = 10\n",
    "gen_data = get_training_data_from_mock_file(n_messages)\n",
    "\n",
    "eod = False\n",
    "while not eod: \n",
    "    messages = []\n",
    "    for d in take(batch_size, gen_data):\n",
    "        notif,_,_ = stomp_amq.make_notification(d, \"training_document\", dataSubfield=None, ts=d[\"timestamp\"])\n",
    "        messages.append(notif)\n",
    "    if messages:\n",
    "        stomp_amq.send(messages)\n",
    "        time.sleep(wait_seconds)\n",
    "    else:\n",
    "        eod = True"
   ]
  },
  {
   "cell_type": "markdown",
   "metadata": {},
   "source": [
    "Now the messages have been send to the AMQ queue. It will take some seconds to make them available both on ES and HDFS. \n",
    "\n",
    "On Kibana we can see the data at  https://monit-kibana.cern.ch/kibana/goto/078e54ae56b3b354ad3328d5e8053a7d\n",
    "\n",
    "On Grafana you can see the elastic search data using the monit_prod_cms-training datasource, as [you can see in this dashboard](https://monit-grafana.cern.ch/d/_S0CjmuWk/user-carizapo-training_test?orgId=11). \n",
    "\n",
    "On HDFS Monit Data is available at `/project/monitoring/archive/<<producer>>/<<prefix>>/<<doc_type>>/<<date yyy/MM/dd>>`, e.g. `/project/monitoring/archive/cms-training/raw/metric/2020/03`. \n",
    "**Note**: The current day data in hadoop is not compacted yet, so the day folder will end in `.tmp`."
   ]
  },
  {
   "cell_type": "code",
   "execution_count": 9,
   "metadata": {},
   "outputs": [
    {
     "name": "stdout",
     "output_type": "stream",
     "text": [
      "Found 8 items\n",
      "-rw-r--r--+  3 monitops hdfs     139717 2020-03-10 11:41 /project/monitoring/archive/cms-training/raw/metric/2020/03/10.tmp/FlumeData.monit-hdfssink-5cf2740dc3.1583833266033\n",
      "-rw-r--r--+  3 monitops hdfs      13251 2020-03-10 14:20 /project/monitoring/archive/cms-training/raw/metric/2020/03/10.tmp/FlumeData.monit-hdfssink-5cf2740dc3.1583846449466.tmp\n",
      "-rw-r--r--+  3 monitops hdfs     140727 2020-03-10 11:41 /project/monitoring/archive/cms-training/raw/metric/2020/03/10.tmp/FlumeData.monit-hdfssink-79c09cf15c.1583833269017\n",
      "-rw-r--r--+  3 monitops hdfs      12219 2020-03-10 14:20 /project/monitoring/archive/cms-training/raw/metric/2020/03/10.tmp/FlumeData.monit-hdfssink-79c09cf15c.1583846447185.tmp\n",
      "-rw-r--r--+  3 monitops hdfs     139497 2020-03-10 11:41 /project/monitoring/archive/cms-training/raw/metric/2020/03/10.tmp/FlumeData.monit-hdfssink-81f7c441d4.1583833269691\n",
      "-rw-r--r--+  3 monitops hdfs      17359 2020-03-10 14:20 /project/monitoring/archive/cms-training/raw/metric/2020/03/10.tmp/FlumeData.monit-hdfssink-81f7c441d4.1583846449622.tmp\n",
      "-rw-r--r--+  3 monitops hdfs     141505 2020-03-10 11:41 /project/monitoring/archive/cms-training/raw/metric/2020/03/10.tmp/FlumeData.monit-hdfssink-8fa40dd995.1583833273683\n",
      "-rw-r--r--+  3 monitops hdfs       3572 2020-03-10 14:20 /project/monitoring/archive/cms-training/raw/metric/2020/03/10.tmp/FlumeData.monit-hdfssink-8fa40dd995.1583846443537.tmp\n",
      "{\"metadata\":{\"hostname\":\"monit-amqsource-42bd3643dc.cern.ch\",\"partition\":\"9\",\"type_prefix\":\"raw\",\"kafka_timestamp\":1583833262584,\"topic\":\"cms-training_raw_metric\",\"producer\":\"cms-training\",\"_id\":\"3c8955e8-8dad-41d1-a68f-3552056ecdb9\",\"type\":\"metric\",\"version\":\"001\",\"timestamp\":1583833261994},\"data\":{\"id\":3,\"country\":\"ID\",\"tier\":\"T3\",\"siteName\":\"T3_ID_afternoon\",\"requestedCores\":4.23,\"requestedMB\":501,\"usedMB\":3102,\"training_username\":\"carizapo\",\"metadata\":{\"uuid\":\"3c8955e8-8dad-41d1-a68f-3552056ecdb9\"}}}\n"
     ]
    }
   ],
   "source": [
    "#In order to make this work you need access to the analytix cluster. \n",
    "!hadoop fs -ls \"/project/monitoring/archive/cms-training/raw/metric/$(date +'%Y/%m/%d').tmp\" 2>/dev/null\n",
    "!hadoop fs -cat \"/project/monitoring/archive/cms-training/raw/metric/$(date +'%Y/%m/%d').tmp/*\" 2>/dev/null |head -n1"
   ]
  },
  {
   "cell_type": "markdown",
   "metadata": {},
   "source": [
    "# Query the hdfs data from spark"
   ]
  },
  {
   "cell_type": "markdown",
   "metadata": {},
   "source": [
    "**Note** You only can run this part of the tutorial if you created the Swan environment connected to the Analytix cluster.  \n",
    "### Introduction to Spark on Swan\n",
    "Swan will take care of the creation of the spark session/spark context variables. In order to do so you need to start the spark session using the star icon.\n",
    "![]( data:image/png;base64,iVBORw0KGgoAAAANSUhEUgAAADwAAAA8CAYAAAA6/NlyAAAABmJLR0QA/wD/AP+gvaeTAAAACXBIWXMAAAsTAAALEwEAmpwYAAAAB3RJTUUH4QsPERAZDTIwFgAABYBJREFUaN7tmVtMHGUYhp8FdhcWOVNrObSAUmptE4209Www2pp44SHGXjUmJtp4uLFW44Ve28ZDook3xmhijDcajfUYNWls1VQrRVFbKrVYC00VymEBl3LY9YJ3kj+/CyzDzi6u8yYT2Nn9Z+b9v9P7fQM+fPjw4cOHDx8+/rsoAELL5WHyPb7+JmAHcDPwJ9Cfy5ZtAt4FhoBR4EugOJcJ3wKcABI6poFXgbJsPlSeh9e+GCi1wudO4EGgMNcI5wElSZJVBfAIsDXXCBcCdUDYOh8ALgIeA67IJcLFQA0Q1OeE5dpbZOnGXCFcDZTLogAx4BQwoc9hxfO9LpNYUPV92dThtcAdQK1I9wHPKok5Vi0C1gCngeNAfAHDFAGVQAtwPXClnn9ggbX/UkFe4EKgyrDwIPCprNxgkG4AdgJnVKdNhBUaK7SB6/R3rSpANfAdsAtot8Imo4QDepgLjHODwCTwCfAy8IQ2JQBco1J1DvhN55tkyWaDYK2uaYZhqyzdqetnhXBYhIPGuSHFcRx4U1bbpd8EgduAGQmVJpGsVxkLG55iYxwYXoxLe4EyYI/kpKOyXrHyRRPwjvF9QhsSBc5b5+c73gJWZztL5ym5ODU4DnTLgg56gBeAg1btLpmjsxqUNDVxDHgN6F1s65ZuVFo1eFLxaSKhhLNXv7/M+n4UOAn8DHRIrOzUhgD8DbwNHF6sO6eDcIEeZBVwKdBmqahRoCvJumngC+A5JbEyWb4TOCIy3arne6wkeAR4HxjJVEPvKKk24FHgDeBbuVfMirMRWXE+NAPXauMCRpLKBx6w8sEw8HgS2ZpWCxdLNNQAG2XBDdLLtQv0uZ8rEc2Hbh3JBMz9lnXbgX0pXHNJImI38LFi6twCmXNaEjIK/KCS4yY5BuXK5rXPAvd47cL3KUvORXBGBEeUaD4DXgQelqhw2/veIILOfSaBl5YqhwtS+N5u5M1M64iFA8CvUkpdwO9Go+C2vdwNrDTu9aMmJjNeWjcAbAO+n8OyMcXTdfOoITe4SSoqobIT1QYsGam4R4+OYu14kbEZeZJ/G1Qro5KRS5V6V2kqUqT7jAPvycqeE07IVb8C/lA5qJLbBZRBG9XUX67PQ4p7txgH1quBcJ5zUsps3GvCpoDolHv3inij1TQ0MDuL3qjNOO0ylod1v9slNfNVozuUMzJC2NHF/SL+jbJog9zaQQS4RG4+qvrqpmaeUf6o1+eQrndY0jIjhB1MiXi7NPGEREmpEd9Vcr9DcvHFYkbX26RYDsrKx+YQKRkZ8UzJbQ/K6qVq15xydxb4yGU8J7SuxYjlCmAM+Npt2UvHTCshlz0h8XG1rIu8YJ/mTsnayBo1HObAL261hSGVqbDW5Mtr+rzU0qkSH9Nhtop1EiVx675bpMY2y1Mc0XJSs6/j2rAOrW/V2tUqWV1uuqV098NjqsVm5i6XZeLGua3AUyLrYJ10tzO26QOOSgOMqiyFtIm3St0dSHV45xUamH1j6KixAeBuI3SKgO3qZ1Md48S0kTPWuaetLiorFj5vCYMSkUzo/x3Ak0apcSYiI7J8RJsTsHR1Mq29WcpvLJuEp+XSjvuFmB22h4CHpIerrSz/oWTjCo16GkWkUlk/ModOX69630MWB/Ex4C9ZOqQHaVZysslGNZfaa9TViMKiVhm8RRPOOq2t12+c9WOLjeF0E55QKZkyzrUBd1nx1g+8DjyvDcIYzh3VgdaUyfqrlNiaJUI+MHJB1hDQSGZgniTUq4Sz0qVuqEhhRpZRbBepZGR/0YaUk0O4UcRssqfk2oXkGFo1vDPJdkseBslBrGH2vZEjFPar3OQth4fz4oV4VDEcV+v4DPBTtrNpJhDB5dsBHz58+PDxf8U/BdyLhkKiXK8AAAAASUVORK5CYII=)\n",
    "For this notebook you can start the session using the default configuration. \n",
    "Before clicking connect take some time to explore this interface, some useful variables you could set here are:\n",
    "  - spark.executor.memory\n",
    "  - spark.driver.memory\n",
    "  - spark.executor.instances\n",
    "  - spark.executor.cores\n",
    "  - spark.sql.shuffle.partitions\n",
    "  \n",
    "Once you are connected to the spark session two variables are created for you:\n",
    "    - `spark`: The spark session\n",
    "    - `sc`: The spark context\n",
    "Run the next cell to see more information about them:"
   ]
  },
  {
   "cell_type": "code",
   "execution_count": 10,
   "metadata": {},
   "outputs": [
    {
     "data": {
      "text/html": [
       "\n",
       "            <div>\n",
       "                <p><b>SparkSession - in-memory</b></p>\n",
       "                \n",
       "        <div>\n",
       "            <p><b>SparkContext</b></p>\n",
       "\n",
       "            <p><a href=\"http://swan005.cern.ch:5266\">Spark UI</a></p>\n",
       "\n",
       "            <dl>\n",
       "              <dt>Version</dt>\n",
       "                <dd><code>v2.4.3</code></dd>\n",
       "              <dt>Master</dt>\n",
       "                <dd><code>yarn</code></dd>\n",
       "              <dt>AppName</dt>\n",
       "                <dd><code>pyspark_shell_swan</code></dd>\n",
       "            </dl>\n",
       "        </div>\n",
       "        \n",
       "            </div>\n",
       "        "
      ],
      "text/plain": [
       "<pyspark.sql.session.SparkSession at 0x7f938e352908>"
      ]
     },
     "metadata": {},
     "output_type": "display_data"
    },
    {
     "data": {
      "text/html": [
       "\n",
       "        <div>\n",
       "            <p><b>SparkContext</b></p>\n",
       "\n",
       "            <p><a href=\"http://swan005.cern.ch:5266\">Spark UI</a></p>\n",
       "\n",
       "            <dl>\n",
       "              <dt>Version</dt>\n",
       "                <dd><code>v2.4.3</code></dd>\n",
       "              <dt>Master</dt>\n",
       "                <dd><code>yarn</code></dd>\n",
       "              <dt>AppName</dt>\n",
       "                <dd><code>pyspark_shell_swan</code></dd>\n",
       "            </dl>\n",
       "        </div>\n",
       "        "
      ],
      "text/plain": [
       "<SparkContext master=yarn appName=pyspark_shell_swan>"
      ]
     },
     "metadata": {},
     "output_type": "display_data"
    }
   ],
   "source": [
    "display(spark)\n",
    "display(sc)"
   ]
  },
  {
   "cell_type": "markdown",
   "metadata": {},
   "source": [
    "Also, as you are now connected to a hadoop cluster, you can use the Hadoop (elephant) icon to browse the data in HDFS. Use it to see the available data in `/project/monitoring/archive/cms-training/raw/metric/`\n",
    "![](data:image/svg+xml;base64,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)\n",
    "\n"
   ]
  },
  {
   "cell_type": "markdown",
   "metadata": {},
   "source": [
    "### Reading our data from hdfs \n",
    "The data we just send have the following structure:\n",
    "\n",
    "```json\n",
    "{\n",
    "\t\"metadata\": {\n",
    "\t\t\"hostname\": \"monit-amqsource-42bd3643dc.cern.ch\",\n",
    "\t\t\"partition\": \"9\",\n",
    "\t\t\"type_prefix\": \"raw\",\n",
    "\t\t\"kafka_timestamp\": 1583833262584,\n",
    "\t\t\"topic\": \"cms-training_raw_metric\",\n",
    "\t\t\"producer\": \"cms-training\",\n",
    "\t\t\"_id\": \"3c8955e8-8dad-41d1-a68f-3552056ecdb9\",\n",
    "\t\t\"type\": \"metric\",\n",
    "\t\t\"version\": \"001\",\n",
    "\t\t\"timestamp\": 1583833261994\n",
    "\t},\n",
    "\t\"data\": {\n",
    "\t\t\"id\": 3,\n",
    "\t\t\"country\": \"ID\",\n",
    "\t\t\"tier\": \"T3\",\n",
    "\t\t\"siteName\": \"T3_ID_afternoon\",\n",
    "\t\t\"requestedCores\": 4.23,\n",
    "\t\t\"requestedMB\": 501,\n",
    "\t\t\"usedMB\": 3102,\n",
    "\t\t\"training_username\": \"carizapo\",\n",
    "\t\t\"metadata\": {\n",
    "\t\t\t\"uuid\": \"3c8955e8-8dad-41d1-a68f-3552056ecdb9\"\n",
    "\t\t}\n",
    "\t}\n",
    "}\n",
    "```\n",
    "Note that our original data is included into the `data` property.\n",
    "\n",
    "So, the first thing we should do is to define the schema we'll use to read the data in spark. This step is optional but highly recommended, if we don't specify a schema, spark will try to infer the schema reading a sample of the data (even worse, the sampling ratio is 1 by default).\n",
    "\n",
    "In the schema, we only need to include the fields we will use in the current application."
   ]
  },
  {
   "cell_type": "code",
   "execution_count": 11,
   "metadata": {},
   "outputs": [],
   "source": [
    "from pyspark.sql.functions import col\n",
    "from pyspark.sql.types import StructField, StructType, StringType, LongType, DoubleType\n",
    "_schema = StructType([\n",
    "    StructField(\"metadata\", StructType([StructField(\"timestamp\",LongType(), nullable=False)])),\n",
    "    StructField(\"data\", StructType([\n",
    "        StructField(\"country\", StringType(), nullable=True),\n",
    "        StructField(\"tier\", StringType(), nullable=True),\n",
    "        StructField(\"siteName\", StringType(), nullable=True),\n",
    "        StructField(\"requestedMB\", DoubleType(), nullable=True),\n",
    "        StructField(\"usedMB\", DoubleType(), nullable=True),\n",
    "        StructField(\"training_username\", StringType(), nullable=True),\n",
    "    ])),\n",
    "])"
   ]
  },
  {
   "cell_type": "markdown",
   "metadata": {},
   "source": [
    "Now we can read the json files, in this case we are only interested in the ones we just created, but the path can use glob expressions, or a list, to select multiple directories."
   ]
  },
  {
   "cell_type": "code",
   "execution_count": 12,
   "metadata": {},
   "outputs": [],
   "source": [
    "from datetime import datetime\n",
    "today = datetime.now()\n",
    "base = \"/project/monitoring/archive/cms-training/raw/metric\"\n",
    "training_df = spark.read.json(f\"{base}/{today.strftime('%Y/%m/%d')}{{.tmp,}}\", schema=_schema)"
   ]
  },
  {
   "cell_type": "code",
   "execution_count": 13,
   "metadata": {},
   "outputs": [
    {
     "name": "stdout",
     "output_type": "stream",
     "text": [
      "root\n",
      " |-- metadata: struct (nullable = true)\n",
      " |    |-- timestamp: long (nullable = true)\n",
      " |-- data: struct (nullable = true)\n",
      " |    |-- country: string (nullable = true)\n",
      " |    |-- tier: string (nullable = true)\n",
      " |    |-- siteName: string (nullable = true)\n",
      " |    |-- requestedMB: double (nullable = true)\n",
      " |    |-- usedMB: double (nullable = true)\n",
      " |    |-- training_username: string (nullable = true)\n",
      "\n"
     ]
    }
   ],
   "source": [
    "training_df.printSchema()"
   ]
  },
  {
   "cell_type": "markdown",
   "metadata": {},
   "source": [
    "While multiple users can send data to the same datasource, we are only interested in data created by the current user."
   ]
  },
  {
   "cell_type": "code",
   "execution_count": 14,
   "metadata": {},
   "outputs": [],
   "source": [
    "training_df = (training_df.where( f\"data.training_username == '{os.getenv('USER')}'\")\n",
    "                          .select(\"metadata.timestamp\", \"data.*\")\n",
    "              )"
   ]
  },
  {
   "cell_type": "markdown",
   "metadata": {},
   "source": [
    "Now we want to check the memory efficiency by country/tier/sitename so we can create  a dataframe grouping by those attributes"
   ]
  },
  {
   "cell_type": "code",
   "execution_count": 15,
   "metadata": {},
   "outputs": [],
   "source": [
    "grouped_df = (training_df.groupBy([\"country\", \"tier\", \"siteName\"])\n",
    "                         .agg({\"requestedMB\":\"sum\", \"usedMB\":\"sum\"})\n",
    "             )"
   ]
  },
  {
   "cell_type": "markdown",
   "metadata": {},
   "source": [
    "Now we can add the memoryEff column"
   ]
  },
  {
   "cell_type": "code",
   "execution_count": 16,
   "metadata": {},
   "outputs": [],
   "source": [
    "grouped_df = (grouped_df.withColumnRenamed(\"sum(usedMB)\",\"used\")\n",
    "                        .withColumnRenamed(\"sum(requestedMB)\",\"requested\")\n",
    "                        .withColumn(\"MemoryEff\", col(\"used\")/col(\"requested\"))\n",
    "                        .cache()\n",
    "             )"
   ]
  },
  {
   "cell_type": "markdown",
   "metadata": {},
   "source": [
    "In case the memory limits are not enforced, we can look at the sites that get more memory used than requested"
   ]
  },
  {
   "cell_type": "code",
   "execution_count": 17,
   "metadata": {},
   "outputs": [
    {
     "data": {
      "text/html": [
       "<div>\n",
       "<style scoped>\n",
       "    .dataframe tbody tr th:only-of-type {\n",
       "        vertical-align: middle;\n",
       "    }\n",
       "\n",
       "    .dataframe tbody tr th {\n",
       "        vertical-align: top;\n",
       "    }\n",
       "\n",
       "    .dataframe thead th {\n",
       "        text-align: right;\n",
       "    }\n",
       "</style>\n",
       "<table border=\"1\" class=\"dataframe\">\n",
       "  <thead>\n",
       "    <tr style=\"text-align: right;\">\n",
       "      <th></th>\n",
       "      <th>country</th>\n",
       "      <th>tier</th>\n",
       "      <th>siteName</th>\n",
       "      <th>requested</th>\n",
       "      <th>used</th>\n",
       "      <th>MemoryEff</th>\n",
       "    </tr>\n",
       "  </thead>\n",
       "  <tbody>\n",
       "    <tr>\n",
       "      <th>0</th>\n",
       "      <td>PT</td>\n",
       "      <td>T0</td>\n",
       "      <td>T0_PT_lapses</td>\n",
       "      <td>0.0</td>\n",
       "      <td>2209.0</td>\n",
       "      <td>NaN</td>\n",
       "    </tr>\n",
       "    <tr>\n",
       "      <th>1</th>\n",
       "      <td>FI</td>\n",
       "      <td>T2</td>\n",
       "      <td>T2_FI_satanic</td>\n",
       "      <td>4.0</td>\n",
       "      <td>2624.0</td>\n",
       "      <td>656.000000</td>\n",
       "    </tr>\n",
       "    <tr>\n",
       "      <th>2</th>\n",
       "      <td>PL</td>\n",
       "      <td>T1</td>\n",
       "      <td>T1_PL_lushest</td>\n",
       "      <td>14.0</td>\n",
       "      <td>3468.0</td>\n",
       "      <td>247.714286</td>\n",
       "    </tr>\n",
       "    <tr>\n",
       "      <th>3</th>\n",
       "      <td>CN</td>\n",
       "      <td>T3</td>\n",
       "      <td>T3_CN_interlude</td>\n",
       "      <td>10.0</td>\n",
       "      <td>1869.0</td>\n",
       "      <td>186.900000</td>\n",
       "    </tr>\n",
       "    <tr>\n",
       "      <th>4</th>\n",
       "      <td>UA</td>\n",
       "      <td>T1</td>\n",
       "      <td>T1_UA_perverted</td>\n",
       "      <td>9.0</td>\n",
       "      <td>1322.0</td>\n",
       "      <td>146.888889</td>\n",
       "    </tr>\n",
       "    <tr>\n",
       "      <th>5</th>\n",
       "      <td>RU</td>\n",
       "      <td>T3</td>\n",
       "      <td>T3_RU_chaff</td>\n",
       "      <td>14.0</td>\n",
       "      <td>1480.0</td>\n",
       "      <td>105.714286</td>\n",
       "    </tr>\n",
       "    <tr>\n",
       "      <th>6</th>\n",
       "      <td>AR</td>\n",
       "      <td>T3</td>\n",
       "      <td>T3_AR_keened</td>\n",
       "      <td>29.0</td>\n",
       "      <td>3052.0</td>\n",
       "      <td>105.241379</td>\n",
       "    </tr>\n",
       "    <tr>\n",
       "      <th>7</th>\n",
       "      <td>PG</td>\n",
       "      <td>T0</td>\n",
       "      <td>T0_PG_steering</td>\n",
       "      <td>17.0</td>\n",
       "      <td>1748.0</td>\n",
       "      <td>102.823529</td>\n",
       "    </tr>\n",
       "    <tr>\n",
       "      <th>8</th>\n",
       "      <td>AF</td>\n",
       "      <td>T3</td>\n",
       "      <td>T3_AF_stork's</td>\n",
       "      <td>38.0</td>\n",
       "      <td>3607.0</td>\n",
       "      <td>94.921053</td>\n",
       "    </tr>\n",
       "    <tr>\n",
       "      <th>9</th>\n",
       "      <td>GR</td>\n",
       "      <td>T3</td>\n",
       "      <td>T3_GR_polishes</td>\n",
       "      <td>27.0</td>\n",
       "      <td>2477.0</td>\n",
       "      <td>91.740741</td>\n",
       "    </tr>\n",
       "  </tbody>\n",
       "</table>\n",
       "</div>"
      ],
      "text/plain": [
       "  country tier         siteName  requested    used   MemoryEff\n",
       "0      PT   T0     T0_PT_lapses        0.0  2209.0         NaN\n",
       "1      FI   T2    T2_FI_satanic        4.0  2624.0  656.000000\n",
       "2      PL   T1    T1_PL_lushest       14.0  3468.0  247.714286\n",
       "3      CN   T3  T3_CN_interlude       10.0  1869.0  186.900000\n",
       "4      UA   T1  T1_UA_perverted        9.0  1322.0  146.888889\n",
       "5      RU   T3      T3_RU_chaff       14.0  1480.0  105.714286\n",
       "6      AR   T3     T3_AR_keened       29.0  3052.0  105.241379\n",
       "7      PG   T0   T0_PG_steering       17.0  1748.0  102.823529\n",
       "8      AF   T3    T3_AF_stork's       38.0  3607.0   94.921053\n",
       "9      GR   T3   T3_GR_polishes       27.0  2477.0   91.740741"
      ]
     },
     "metadata": {},
     "output_type": "display_data"
    }
   ],
   "source": [
    "overuse_df = grouped_df.orderBy(grouped_df.MemoryEff.desc_nulls_first()).limit(10).toPandas()\n",
    "display(overuse_df)"
   ]
  },
  {
   "cell_type": "markdown",
   "metadata": {},
   "source": [
    "Or we can get the ones that get more memory requested than used"
   ]
  },
  {
   "cell_type": "code",
   "execution_count": 18,
   "metadata": {},
   "outputs": [
    {
     "data": {
      "text/html": [
       "<div>\n",
       "<style scoped>\n",
       "    .dataframe tbody tr th:only-of-type {\n",
       "        vertical-align: middle;\n",
       "    }\n",
       "\n",
       "    .dataframe tbody tr th {\n",
       "        vertical-align: top;\n",
       "    }\n",
       "\n",
       "    .dataframe thead th {\n",
       "        text-align: right;\n",
       "    }\n",
       "</style>\n",
       "<table border=\"1\" class=\"dataframe\">\n",
       "  <thead>\n",
       "    <tr style=\"text-align: right;\">\n",
       "      <th></th>\n",
       "      <th>country</th>\n",
       "      <th>tier</th>\n",
       "      <th>siteName</th>\n",
       "      <th>requested</th>\n",
       "      <th>used</th>\n",
       "      <th>MemoryEff</th>\n",
       "    </tr>\n",
       "  </thead>\n",
       "  <tbody>\n",
       "    <tr>\n",
       "      <th>0</th>\n",
       "      <td>PH</td>\n",
       "      <td>T3</td>\n",
       "      <td>T3_PH_slant's</td>\n",
       "      <td>1902.0</td>\n",
       "      <td>0.0</td>\n",
       "      <td>0.000000</td>\n",
       "    </tr>\n",
       "    <tr>\n",
       "      <th>1</th>\n",
       "      <td>ID</td>\n",
       "      <td>T1</td>\n",
       "      <td>T1_ID_homemade</td>\n",
       "      <td>1742.0</td>\n",
       "      <td>2.0</td>\n",
       "      <td>0.001148</td>\n",
       "    </tr>\n",
       "    <tr>\n",
       "      <th>2</th>\n",
       "      <td>PT</td>\n",
       "      <td>T3</td>\n",
       "      <td>T3_PT_compelled</td>\n",
       "      <td>5985.0</td>\n",
       "      <td>18.0</td>\n",
       "      <td>0.003008</td>\n",
       "    </tr>\n",
       "    <tr>\n",
       "      <th>3</th>\n",
       "      <td>NG</td>\n",
       "      <td>T2</td>\n",
       "      <td>T2_NG_pagan's</td>\n",
       "      <td>1708.0</td>\n",
       "      <td>6.0</td>\n",
       "      <td>0.003513</td>\n",
       "    </tr>\n",
       "    <tr>\n",
       "      <th>4</th>\n",
       "      <td>PT</td>\n",
       "      <td>T3</td>\n",
       "      <td>T3_PT_priest</td>\n",
       "      <td>1344.0</td>\n",
       "      <td>14.0</td>\n",
       "      <td>0.010417</td>\n",
       "    </tr>\n",
       "    <tr>\n",
       "      <th>5</th>\n",
       "      <td>CN</td>\n",
       "      <td>T3</td>\n",
       "      <td>T3_CN_virtue's</td>\n",
       "      <td>1105.0</td>\n",
       "      <td>13.0</td>\n",
       "      <td>0.011765</td>\n",
       "    </tr>\n",
       "    <tr>\n",
       "      <th>6</th>\n",
       "      <td>PH</td>\n",
       "      <td>T3</td>\n",
       "      <td>T3_PH_longing</td>\n",
       "      <td>532.0</td>\n",
       "      <td>13.0</td>\n",
       "      <td>0.024436</td>\n",
       "    </tr>\n",
       "    <tr>\n",
       "      <th>7</th>\n",
       "      <td>CA</td>\n",
       "      <td>T3</td>\n",
       "      <td>T3_CA_fired</td>\n",
       "      <td>1056.0</td>\n",
       "      <td>35.0</td>\n",
       "      <td>0.033144</td>\n",
       "    </tr>\n",
       "    <tr>\n",
       "      <th>8</th>\n",
       "      <td>CN</td>\n",
       "      <td>T3</td>\n",
       "      <td>T3_CN_respites</td>\n",
       "      <td>889.0</td>\n",
       "      <td>30.0</td>\n",
       "      <td>0.033746</td>\n",
       "    </tr>\n",
       "    <tr>\n",
       "      <th>9</th>\n",
       "      <td>CA</td>\n",
       "      <td>T3</td>\n",
       "      <td>T3_CA_slashed</td>\n",
       "      <td>1984.0</td>\n",
       "      <td>71.0</td>\n",
       "      <td>0.035786</td>\n",
       "    </tr>\n",
       "  </tbody>\n",
       "</table>\n",
       "</div>"
      ],
      "text/plain": [
       "  country tier         siteName  requested  used  MemoryEff\n",
       "0      PH   T3    T3_PH_slant's     1902.0   0.0   0.000000\n",
       "1      ID   T1   T1_ID_homemade     1742.0   2.0   0.001148\n",
       "2      PT   T3  T3_PT_compelled     5985.0  18.0   0.003008\n",
       "3      NG   T2    T2_NG_pagan's     1708.0   6.0   0.003513\n",
       "4      PT   T3     T3_PT_priest     1344.0  14.0   0.010417\n",
       "5      CN   T3   T3_CN_virtue's     1105.0  13.0   0.011765\n",
       "6      PH   T3    T3_PH_longing      532.0  13.0   0.024436\n",
       "7      CA   T3      T3_CA_fired     1056.0  35.0   0.033144\n",
       "8      CN   T3   T3_CN_respites      889.0  30.0   0.033746\n",
       "9      CA   T3    T3_CA_slashed     1984.0  71.0   0.035786"
      ]
     },
     "metadata": {},
     "output_type": "display_data"
    }
   ],
   "source": [
    "overrequest_df = grouped_df.orderBy(grouped_df.MemoryEff.asc_nulls_last()).limit(10).toPandas()\n",
    "display(overrequest_df)"
   ]
  },
  {
   "cell_type": "code",
   "execution_count": null,
   "metadata": {},
   "outputs": [],
   "source": []
  }
 ],
 "metadata": {
  "kernelspec": {
   "display_name": "Python 3",
   "language": "python",
   "name": "python3"
  },
  "language_info": {
   "codemirror_mode": {
    "name": "ipython",
    "version": 3
   },
   "file_extension": ".py",
   "mimetype": "text/x-python",
   "name": "python",
   "nbconvert_exporter": "python",
   "pygments_lexer": "ipython3",
   "version": "3.6.5"
  },
  "sparkconnect": {
   "bundled_options": [],
   "list_of_options": []
  },
  "widgets": {
   "application/vnd.jupyter.widget-state+json": {
    "state": {},
    "version_major": 2,
    "version_minor": 0
   }
  }
 },
 "nbformat": 4,
 "nbformat_minor": 2
}
